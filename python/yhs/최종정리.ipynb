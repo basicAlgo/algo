{
 "cells": [
  {
   "cell_type": "markdown",
   "source": [
    "파이썬 함수 리스트\r\n",
    "\r\n",
    "join\r\n",
    "\r\n",
    "heapq\r\n",
    "\r\n",
    "deque\r\n",
    "\r\n",
    "list\r\n",
    "\r\n",
    "dict\r\n",
    "\r\n",
    "lambda\r\n",
    "\r\n",
    "sort(key)\r\n",
    "\r\n",
    "최단경로(특정노드)\r\n",
    "\r\n",
    "최단경로(모든노드)\r\n",
    "\r\n",
    "for문을 활용한 yeild"
   ],
   "metadata": {}
  },
  {
   "cell_type": "markdown",
   "source": [
    "lambda 예제 1"
   ],
   "metadata": {}
  },
  {
   "cell_type": "code",
   "execution_count": null,
   "source": [
    "solution = lambda t, l = []: max(l) if not t else solution(t[1:], [max(x,y)+z for x,y,z in zip([0]+l, l+[0], t[0])])\r\n",
    "solution()"
   ],
   "outputs": [],
   "metadata": {}
  },
  {
   "cell_type": "markdown",
   "source": [
    "리스트의 정석\r\n",
    "\r\n",
    "13줄 sum 부분 눈여겨 볼것. 리스트에서  sum 할 대상이 play기 때문에 나머지 튜플은 _ 로 무시처리 하고 있음.\r\n",
    "\r\n",
    "이차리스트에서 for문으로 1번값만 가져오고 싶을 때 for _ , 가져올값 in list 느낌으로 적으면됨.\r\n",
    "\r\n",
    "sort에서도 순서를 정할 수 있음 ex sort(key lambda x: (-x[0],x[1]) ) \r\n",
    "\r\n"
   ],
   "metadata": {}
  },
  {
   "cell_type": "code",
   "execution_count": 1,
   "source": [
    "def solution(genres, plays):\r\n",
    "\r\n",
    "    genres_dict = {} # 딕셔너리 초기화\r\n",
    "    genres_list = [] #리스트 초기화\r\n",
    "    for i in range(len(genres)):\r\n",
    "        if genres[i] not in genres_dict: #딕셔너리에 없는 경우 하나씩 추가 set으로 해도 상관없긴함.\r\n",
    "            genres_dict[genres[i]] = [] #key 에 장르를 넣고, value를 리스트로 초기화\r\n",
    "        genres_dict[genres[i]].append([i, plays[i]]) #plays를 value 리스트에 이차리스트 튜플로 집어넣고있음.\r\n",
    "\r\n",
    "    for g in genres_dict:\r\n",
    "        genres_dict[g].sort(key=lambda x: x[1], reverse=True) #같은 장르내에 노래부터 먼저 정렬\r\n",
    "        genres_list.append([g, sum([play for _, play in genres_dict[g]])]) #같은 장르 총합 계산해서, key(장르명)이랑 묶어서 \r\n",
    "        #리스트에 때려박고있음.\r\n",
    "\r\n",
    "    genres_list.sort(key=lambda x: x[1], reverse=True) #그 리스트를 정렬(=장르정렬)\r\n",
    "    answer = []\r\n",
    "    for g, _ in genres_list: #이중 리스트의 [0]번(장르명) 으로 for문을 돌림\r\n",
    "        answer.extend([x[0] for x in genres_dict[g][:2]])\r\n",
    "        # [:2]로 없으면 자동스킵, answer에 extend로 딕셔너리 장르명과 일치하는 밸류값의 0번(곡번호) 를 \r\n",
    "        # 최대 두개까지 순서대로 집어넣고있음\r\n",
    "    print(genres_dict)\r\n",
    "    print(genres_dict['classic'][0][0])\r\n",
    "    return answer\r\n",
    "\r\n",
    "print(solution( [\"classic\", \"pop\", \"classic\", \"classic\", \"pop\"],[500, 600, 150, 800, 2500]))\r\n",
    "\r\n",
    "\r\n",
    "# for문으로 sum돌리기, extend + for 로 append보다 높은효율내기\r\n",
    "\r\n",
    "# 딕셔너리(해시), 정렬 모두 사용한 좋은 풀이"
   ],
   "outputs": [
    {
     "output_type": "stream",
     "name": "stdout",
     "text": [
      "{'classic': [[3, 800], [0, 500], [2, 150]], 'pop': [[4, 2500], [1, 600]]}\n",
      "3\n",
      "[4, 1, 3, 0]\n"
     ]
    }
   ],
   "metadata": {}
  },
  {
   "cell_type": "code",
   "execution_count": 2,
   "source": [
    "# 까먹지마소. 숫자계산\r\n",
    "j = 3\r\n",
    "k = 4\r\n",
    "i = j*(10**k)\r\n",
    "print(i)"
   ],
   "outputs": [
    {
     "output_type": "stream",
     "name": "stdout",
     "text": [
      "30000\n"
     ]
    }
   ],
   "metadata": {}
  },
  {
   "cell_type": "markdown",
   "source": [
    "리스트의 모든 것 적어보려함"
   ],
   "metadata": {}
  },
  {
   "cell_type": "code",
   "execution_count": null,
   "source": [
    "# list\r\n",
    "# index 추출 a.index()\r\n",
    "# 삭제 del(index)\r\n",
    "# remove(값)\r\n",
    "# 특정값 삭제 a = a[:-1] (맨 마지막항 삭제)\r\n",
    "# find\r\n",
    "# 문자열중 2번째 위치부터 처음 'x'가 위치한 자리\r\n",
    ">>> 'oxoxoxoxox'.index('x', 2)\r\n",
    "3\r\n",
    "\r\n",
    "# a변수에서 1번째~3번째 사이에 문자 'o'가 위치한 자리\r\n",
    ">>> a = 'hello'\r\n",
    ">>> a.find('o', 1, 3)\r\n",
    "-1\t\r\n",
    "# find함수는 찾는 값이 없을 때 -1을 출력한다.\r\n"
   ],
   "outputs": [],
   "metadata": {}
  },
  {
   "cell_type": "code",
   "execution_count": null,
   "source": [
    "#join 사용법 => 맨 마지막 return줄 참고\r\n",
    "def solution(number, k):\r\n",
    "    stack = [number[0]]\r\n",
    "    for num in number[1:]:\r\n",
    "        while len(stack) > 0 and stack[-1] < num and k > 0:\r\n",
    "            k -= 1\r\n",
    "            stack.pop()\r\n",
    "        stack.append(num)\r\n",
    "    if k != 0:\r\n",
    "        stack = stack[:-k]\r\n",
    "    return ''.join(stack)"
   ],
   "outputs": [],
   "metadata": {}
  },
  {
   "cell_type": "code",
   "execution_count": 3,
   "source": [
    "#정렬\r\n",
    "student_tuples = [\r\n",
    "    ('john', 'A', 15),\r\n",
    "    ('jane', 'B', 12),\r\n",
    "    ('dave', 'B', 10),\r\n",
    "]\r\n",
    "sorted(student_tuples, key=lambda s: s[2])   # sort by age\r\n",
    "[('dave', 'B', 10), ('jane', 'B', 12), ('john', 'A', 15)]"
   ],
   "outputs": [
    {
     "output_type": "execute_result",
     "data": {
      "text/plain": [
       "[('dave', 'B', 10), ('jane', 'B', 12), ('john', 'A', 15)]"
      ]
     },
     "metadata": {},
     "execution_count": 3
    }
   ],
   "metadata": {}
  },
  {
   "cell_type": "code",
   "execution_count": 9,
   "source": [
    "# 모든 일치값 찾기\r\n",
    "str = 'abcabcabc'\r\n",
    "target = 'b'\r\n",
    "index = -1\r\n",
    "while True:\r\n",
    "    index = str.find(target, index + 1)\r\n",
    "    if index == -1: \r\n",
    "        break\r\n",
    "    print('start=%d' % index)\r\n",
    "x = str.find('d') #없으면 -1을 반환 \r\n",
    "print(x)\r\n"
   ],
   "outputs": [
    {
     "output_type": "stream",
     "name": "stdout",
     "text": [
      "start=1\n",
      "start=4\n",
      "start=7\n",
      "-1\n"
     ]
    }
   ],
   "metadata": {}
  },
  {
   "cell_type": "code",
   "execution_count": 14,
   "source": [
    "dd = 'abcdb'\r\n",
    "y = dd.index('a')\r\n",
    "yy = dd.index('b')\r\n",
    "print(y)\r\n",
    "print(yy)"
   ],
   "outputs": [
    {
     "output_type": "stream",
     "name": "stdout",
     "text": [
      "0\n",
      "1\n"
     ]
    }
   ],
   "metadata": {}
  },
  {
   "cell_type": "markdown",
   "source": [
    "filter\r\n",
    "filter를 이용하여 test_list에서 3의 위치를 모두 반환하는 코드이다. filter를 사용하고 list로 감싸줘야 우리가 원하는 형태를 얻을 수 있다. 더불어 filter는 lambda와 같이 사용하면 유용하니 꼭 기억하자.\r\n",
    "\r\n",
    "test_list = [1, 3, 4, 3, 6, 7]\r\n",
    "print(\"Original list : \" + str(test_list))\r\n",
    "res_list = list(filter(lambda x: test_list[x] == 3, range(len(test_list))))\r\n",
    "print(\"New indices list : \" + str(res_list))\r\n",
    "\r\n",
    "# Original list : [1, 3, 4, 3, 6, 7]\r\n",
    "# New indices list : [1, 3]"
   ],
   "metadata": {}
  },
  {
   "cell_type": "code",
   "execution_count": 15,
   "source": [
    "a = [1,3,4,3,6,7]\r\n",
    "b = []\r\n",
    "c = 0\r\n",
    "for x in range(len(a)):\r\n",
    "    if a[x] == 3:\r\n",
    "         b.append(x)\r\n",
    "         c +=1\r\n",
    "print(b)\r\n",
    "print(c)\r\n"
   ],
   "outputs": [
    {
     "output_type": "stream",
     "name": "stdout",
     "text": [
      "[1, 3]\n",
      "2\n"
     ]
    }
   ],
   "metadata": {}
  },
  {
   "cell_type": "code",
   "execution_count": null,
   "source": [
    "from collections import deque\r\n",
    "def get_connection(current,computers):\r\n",
    "    for i in range(len(computers[current])):\r\n",
    "        if current != i:\r\n",
    "            if computers[current][i] == 1:\r\n",
    "                yield i\r\n",
    "\r\n",
    "def solution(n, computers):\r\n",
    "    queue = deque([])\r\n",
    "    counts = []\r\n",
    "    num = 0\r\n",
    "    for i in range(n): \r\n",
    "        if i not in counts:\r\n",
    "            queue.append(i)\r\n",
    "            counts.append(i)\r\n",
    "            num += 1\r\n",
    "            while queue:\r\n",
    "                current = queue.popleft()\r\n",
    "\r\n",
    "                for next_step in get_connection(current,computers):\r\n",
    "                    if next_step not in counts:\r\n",
    "                        counts.append(next_step)\r\n",
    "                        queue.append(next_step)\r\n",
    "    return num"
   ],
   "outputs": [],
   "metadata": {}
  },
  {
   "cell_type": "code",
   "execution_count": null,
   "source": [
    "from collections import deque\r\n",
    "def get_adjacent(current, words):\r\n",
    "    for word in words:\r\n",
    "        if len(current) != len(word):\r\n",
    "            continue\r\n",
    "\r\n",
    "        count = 0\r\n",
    "        for c, w in zip(current, word):\r\n",
    "            if c != w:\r\n",
    "                count += 1\r\n",
    "\r\n",
    "        if count == 1:\r\n",
    "            yield word\r\n",
    "\r\n",
    "\r\n",
    "def solution(begin, target, words):\r\n",
    "    dist = {begin: 0}\r\n",
    "    queue = deque([begin])\r\n",
    "\r\n",
    "    while queue:\r\n",
    "        current = queue.popleft()\r\n",
    "\r\n",
    "        for next_word in get_adjacent(current, words):\r\n",
    "            if next_word not in dist:\r\n",
    "                dist[next_word] = dist[current] + 1\r\n",
    "                queue.append(next_word)\r\n",
    "\r\n",
    "    return dist.get(target, 0)"
   ],
   "outputs": [],
   "metadata": {}
  },
  {
   "cell_type": "code",
   "execution_count": null,
   "source": [
    "import heapq\r\n",
    "def solution(begin, target, words):\r\n",
    "    if target not in words:\r\n",
    "        return 0\r\n",
    "    else: words.remove(target)\r\n",
    "    n = len(target) + 2\r\n",
    "    m = len(begin)\r\n",
    "    o = 0\r\n",
    "    graph = [[] for _ in range(n)]\r\n",
    "    test1 =[]\r\n",
    "    test1.append(list(begin))\r\n",
    "    distance = [1e9] * n\r\n",
    "    for i in words:\r\n",
    "        test1.append(list(i))\r\n",
    "    test1.append(list(target))\r\n",
    "    for a in n:\r\n",
    "        for b in n:\r\n",
    "            for c in m:\r\n",
    "                if test1[a][c] == test1[b][c]:\r\n",
    "                    o += 1\r\n",
    "            if o+1 == m:\r\n",
    "                graph[a].append(b)\r\n",
    "            o = 0\r\n",
    "    def dij(start):\r\n",
    "        q = []\r\n",
    "        heapq.heappush(q,(0,start))\r\n",
    "        distance[start] = 0\r\n",
    "        while q:\r\n",
    "            dist, now = heapq.heapop(q)\r\n",
    "            if distance[now] < dist:\r\n",
    "                continue\r\n",
    "            for i in graph[now]:\r\n",
    "                cost = dist + 1\r\n",
    "                if cost < distance[i]:\r\n",
    "                    distance[i] = cost\r\n",
    "                    heapq.heappush(q,(cost,i))\r\n",
    "    dij(0)\r\n",
    "    \r\n",
    "    answer = distance[n]\r\n",
    "    return answer\r\n",
    "solution(\"hit\",\"cog\",[\"hot\", \"dot\", \"dog\", \"lot\", \"log\", \"cog\"])"
   ],
   "outputs": [],
   "metadata": {}
  },
  {
   "cell_type": "code",
   "execution_count": null,
   "source": [
    "from collections import deque\n",
    "\n",
    "# 연결된 노드를 찾는 작업\n",
    "def get_adjacent(current, words):\n",
    "    for word in words:\n",
    "        if len(current) != len(word):\n",
    "            continue\n",
    "\n",
    "        count = 0\n",
    "        for c, w in zip(current, word):\n",
    "            if c != w:\n",
    "                count += 1\n",
    "\n",
    "        if count == 1:\n",
    "            yield word\n",
    "\n",
    "\n",
    "def solution(begin, target, words):\n",
    "    dist = {begin: 0}\n",
    "    queue = deque([begin])\n",
    "\n",
    "    while queue:\n",
    "        current = queue.popleft()\n",
    "\n",
    "        for next_word in get_adjacent(current, words):\n",
    "            if next_word not in dist:\n",
    "                dist[next_word] = dist[current] + 1\n",
    "                queue.append(next_word)\n",
    "\n",
    "    return dist.get(target, 0)\n",
    "solution(\"hit\",\"cog\",[\"hot\", \"dot\", \"dog\", \"lot\", \"log\", \"cog\"])"
   ],
   "outputs": [],
   "metadata": {}
  },
  {
   "cell_type": "markdown",
   "source": [
    "copy()"
   ],
   "metadata": {}
  },
  {
   "cell_type": "code",
   "execution_count": null,
   "source": [
    "a = [[1,2,3],[4,5],[6]]\n",
    "b = [i.copy()for i in a]\n",
    "c = a[0].copy()\n",
    "print(b)\n",
    "print(c)"
   ],
   "outputs": [],
   "metadata": {}
  },
  {
   "cell_type": "code",
   "execution_count": null,
   "source": [
    "import sys\n",
    "sys.setrecursionlimit(10**5)\n",
    "n=int(input())\n",
    "a=[[\" \"]*(n+2)]+[list(\" \"+input()+\" \")for i in[0]*n]+[[\" \"]*(n+2)]\n",
    "b=[i.copy()for i in a]\n",
    "print(a)\n",
    "print(b)\n",
    "# n개 입력받고 (n*2)*(n*2) 맵 만들기. (경로나 맵에서 이탈하는 경우 삭제위해) - 백준적록색약 다른사람풀이 보기.."
   ],
   "outputs": [],
   "metadata": {}
  }
 ],
 "metadata": {
  "orig_nbformat": 4,
  "language_info": {
   "name": "python",
   "version": "3.9.5",
   "mimetype": "text/x-python",
   "codemirror_mode": {
    "name": "ipython",
    "version": 3
   },
   "pygments_lexer": "ipython3",
   "nbconvert_exporter": "python",
   "file_extension": ".py"
  },
  "kernelspec": {
   "name": "python3",
   "display_name": "Python 3.9.5 64-bit"
  },
  "interpreter": {
   "hash": "f3aaf59de0a89380edcdc4b12fa8878827c5d13bd0d10210b44732dc83483e67"
  }
 },
 "nbformat": 4,
 "nbformat_minor": 2
}